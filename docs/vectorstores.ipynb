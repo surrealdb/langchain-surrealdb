{
 "cells": [
  {
   "cell_type": "raw",
   "id": "1957f5cb",
   "metadata": {},
   "source": [
    "---\n",
    "sidebar_label: SurrealDB\n",
    "---"
   ]
  },
  {
   "cell_type": "markdown",
   "id": "ef1f0986",
   "metadata": {},
   "source": [
    "# SurrealDBVectorStore\n",
    "\n",
    "This notebook covers how to get started with the SurrealDB vector store."
   ]
  },
  {
   "cell_type": "markdown",
   "id": "36fdc060",
   "metadata": {},
   "source": [
    "## Setup\n",
    "\n",
    "You can run SurrealDB locally or start with a [free SurrealDB cloud account](https://surrealdb.com/docs/cloud/getting-started).\n",
    "\n",
    "For local, two options:\n",
    "1. [Install SurrealDB](https://surrealdb.com/docs/surrealdb/installation) and [run SurrealDB](https://surrealdb.com/docs/surrealdb/installation/running). Run in-memory with:\n",
    "\n",
    "    ```bash\n",
    "    surreal start -u root -p root\n",
    "    ```\n",
    "\n",
    "2. [Run with Docker](https://surrealdb.com/docs/surrealdb/installation/running/docker).\n",
    "\n",
    "    ```bash\n",
    "    docker run --rm --pull always -p 8000:8000 surrealdb/surrealdb:latest start\n",
    "    ```\n",
    "\n",
    "## Install dependencies\n",
    "\n",
    "Install `langchain-surrealdb` and `surrealdb` python packages.\n",
    "\n",
    "```shell\n",
    "# -- Using pip\n",
    "pip install --upgrade langchain-surrealdb surrealdb\n",
    "# -- Using poetry\n",
    "poetry add langchain-surrealdb surrealdb\n",
    "# -- Using uv\n",
    "uv add --upgrade langchain-surrealdb surrealdb\n",
    "```\n",
    "\n",
    "To run this notebook, we just need to install the additional dependencies required by this example:\n"
   ]
  },
  {
   "cell_type": "code",
   "id": "df7af37d48cb9077",
   "metadata": {
    "ExecuteTime": {
     "end_time": "2025-05-21T10:44:11.285843Z",
     "start_time": "2025-05-21T10:44:10.588668Z"
    }
   },
   "source": "!poetry add --quiet --group docs langchain-ollama",
   "outputs": [],
   "execution_count": 1
  },
  {
   "cell_type": "markdown",
   "id": "93df377e",
   "metadata": {},
   "source": "## Initialization\n"
  },
  {
   "cell_type": "code",
   "id": "dc37144c-208d-4ab3-9f3a-0407a69fe052",
   "metadata": {
    "tags": [],
    "ExecuteTime": {
     "end_time": "2025-05-21T10:44:12.023145Z",
     "start_time": "2025-05-21T10:44:11.381460Z"
    }
   },
   "source": [
    "from langchain_surrealdb.vectorstores import SurrealDBVectorStore\n",
    "from langchain_ollama import OllamaEmbeddings\n",
    "from surrealdb import Surreal\n",
    "\n",
    "conn = Surreal(\"ws://localhost:8000/rpc\")\n",
    "conn.signin({\"username\": \"root\", \"password\": \"root\"})\n",
    "conn.use(\"langchain\", \"demo\")\n",
    "vector_store = SurrealDBVectorStore(OllamaEmbeddings(model=\"llama3.2\"), conn)"
   ],
   "outputs": [],
   "execution_count": 2
  },
  {
   "cell_type": "markdown",
   "id": "ac6071d4",
   "metadata": {},
   "source": [
    "## Manage vector store\n",
    "\n",
    "### Add items to vector store\n"
   ]
  },
  {
   "cell_type": "code",
   "id": "17f5efc0",
   "metadata": {
    "ExecuteTime": {
     "end_time": "2025-05-21T10:44:12.136589Z",
     "start_time": "2025-05-21T10:44:12.031598Z"
    }
   },
   "source": [
    "from langchain_core.documents import Document\n",
    "\n",
    "document_1 = Document(page_content=\"foo\", metadata={\"source\": \"https://example.com\"})\n",
    "\n",
    "document_2 = Document(page_content=\"bar\", metadata={\"source\": \"https://example.com\"})\n",
    "\n",
    "document_3 = Document(page_content=\"baz\", metadata={\"source\": \"https://example.com\"})\n",
    "\n",
    "documents = [document_1, document_2, document_3]\n",
    "\n",
    "vector_store.add_documents(documents=documents, ids=[\"1\", \"2\", \"3\"])"
   ],
   "outputs": [
    {
     "data": {
      "text/plain": [
       "['1', '2', '3']"
      ]
     },
     "execution_count": 3,
     "metadata": {},
     "output_type": "execute_result"
    }
   ],
   "execution_count": 3
  },
  {
   "cell_type": "markdown",
   "id": "c738c3e0",
   "metadata": {},
   "source": "### Update items in vector store"
  },
  {
   "cell_type": "code",
   "id": "f0aa8b71",
   "metadata": {
    "ExecuteTime": {
     "end_time": "2025-05-21T10:44:12.202765Z",
     "start_time": "2025-05-21T10:44:12.147621Z"
    }
   },
   "source": [
    "updated_document = Document(\n",
    "    page_content=\"qux\", metadata={\"source\": \"https://another-example.com\"}\n",
    ")\n",
    "\n",
    "vector_store.add_documents(documents=[updated_document], ids=[\"1\"])"
   ],
   "outputs": [
    {
     "data": {
      "text/plain": [
       "['1']"
      ]
     },
     "execution_count": 4,
     "metadata": {},
     "output_type": "execute_result"
    }
   ],
   "execution_count": 4
  },
  {
   "cell_type": "markdown",
   "id": "dcf1b905",
   "metadata": {},
   "source": "### Delete items from vector store\n"
  },
  {
   "cell_type": "code",
   "id": "ef61e188",
   "metadata": {
    "ExecuteTime": {
     "end_time": "2025-05-21T10:44:12.216738Z",
     "start_time": "2025-05-21T10:44:12.212801Z"
    }
   },
   "source": [
    "vector_store.delete(ids=[\"3\"])"
   ],
   "outputs": [],
   "execution_count": 5
  },
  {
   "cell_type": "markdown",
   "id": "c3620501",
   "metadata": {},
   "source": [
    "## Query vector store\n",
    "\n",
    "Once your vector store has been created and the relevant documents have been added you will most likely wish to query it during the running of your chain or agent. \n",
    "\n",
    "### Query directly\n",
    "\n",
    "Performing a simple similarity search can be done as follows:\n"
   ]
  },
  {
   "cell_type": "code",
   "id": "aa0a16fa",
   "metadata": {
    "ExecuteTime": {
     "end_time": "2025-05-21T10:44:12.286137Z",
     "start_time": "2025-05-21T10:44:12.232359Z"
    }
   },
   "source": [
    "results = vector_store.similarity_search(\n",
    "    query=\"thud\", k=1, custom_filter={\"source\": \"https://another-example.com\"}\n",
    ")\n",
    "for doc in results:\n",
    "    print(f\"* {doc.page_content} [{doc.metadata}]\")"
   ],
   "outputs": [
    {
     "name": "stdout",
     "output_type": "stream",
     "text": [
      "* qux [{'source': 'https://another-example.com'}]\n"
     ]
    }
   ],
   "execution_count": 6
  },
  {
   "cell_type": "markdown",
   "id": "3ed9d733",
   "metadata": {},
   "source": "If you want to execute a similarity search and receive the corresponding scores you can run:\n"
  },
  {
   "cell_type": "code",
   "id": "5efd2eaa",
   "metadata": {
    "ExecuteTime": {
     "end_time": "2025-05-21T10:44:12.345058Z",
     "start_time": "2025-05-21T10:44:12.292644Z"
    }
   },
   "source": [
    "results = vector_store.similarity_search_with_score(\n",
    "    query=\"thud\", k=1, custom_filter={\"source\": \"https://example.com\"}\n",
    ")\n",
    "for doc, score in results:\n",
    "    print(f\"* [SIM={score:3f}] {doc.page_content} [{doc.metadata}]\")"
   ],
   "outputs": [
    {
     "name": "stdout",
     "output_type": "stream",
     "text": [
      "* [SIM=0.430072] bar [{'source': 'https://example.com'}]\n"
     ]
    }
   ],
   "execution_count": 7
  },
  {
   "cell_type": "markdown",
   "id": "0c235cdc",
   "metadata": {},
   "source": [
    "### Query by turning into retriever\n",
    "\n",
    "You can also transform the vector store into a retriever for easier usage in your chains. \n"
   ]
  },
  {
   "metadata": {
    "ExecuteTime": {
     "end_time": "2025-05-21T10:44:12.422594Z",
     "start_time": "2025-05-21T10:44:12.356365Z"
    }
   },
   "cell_type": "code",
   "source": [
    "retriever = vector_store.as_retriever(search_type=\"mmr\", search_kwargs={\"k\": 1})\n",
    "retriever.invoke(\"thud\")"
   ],
   "id": "f3460093",
   "outputs": [
    {
     "data": {
      "text/plain": [
       "[Document(id='1', metadata={'source': 'https://another-example.com'}, page_content='qux')]"
      ]
     },
     "execution_count": 8,
     "metadata": {},
     "output_type": "execute_result"
    }
   ],
   "execution_count": 8
  },
  {
   "cell_type": "markdown",
   "id": "901c75dc",
   "metadata": {},
   "source": [
    "## Usage for retrieval-augmented generation\n",
    "\n",
    "For guides on how to use this vector store for retrieval-augmented generation (RAG), see the following sections:\n",
    "\n",
    "- [How-to: Question and answer with RAG](https://python.langchain.com/docs/how_to/#qa-with-rag)\n",
    "- [Retrieval conceptual docs](https://python.langchain.com/docs/concepts/retrieval/)"
   ]
  },
  {
   "cell_type": "markdown",
   "id": "8a27244f",
   "metadata": {},
   "source": [
    "## API reference\n",
    "\n",
    "For detailed documentation of all SurrealDBVectorStore features and configurations head to the API reference: https://api.python.langchain.com/en/latest/vectorstores/langchain_surrealdb.vectorstores.SurrealDBVectorStore.html"
   ]
  },
  {
   "metadata": {},
   "cell_type": "markdown",
   "source": [
    "## Next steps\n",
    "\n",
    "- try the [jupyther notebook](./docs/vectorstores.ipynb)\n",
    "- [Awesome SurrealDB](https://github.com/surrealdb/awesome-surreal), A curated list of SurrealDB resources, tools, utilities, and applications\n"
   ],
   "id": "85901cdb62057fe5"
  }
 ],
 "metadata": {
  "kernelspec": {
   "display_name": "Python 3 (ipykernel)",
   "language": "python",
   "name": "python3"
  },
  "language_info": {
   "codemirror_mode": {
    "name": "ipython",
    "version": 3
   },
   "file_extension": ".py",
   "mimetype": "text/x-python",
   "name": "python",
   "nbconvert_exporter": "python",
   "pygments_lexer": "ipython3",
   "version": "3.10.12"
  }
 },
 "nbformat": 4,
 "nbformat_minor": 5
}
